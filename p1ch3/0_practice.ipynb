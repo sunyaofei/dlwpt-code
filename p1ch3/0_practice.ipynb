{
 "cells": [
  {
   "cell_type": "code",
   "execution_count": 67,
   "metadata": {},
   "outputs": [],
   "source": [
    "import torch"
   ]
  },
  {
   "cell_type": "code",
   "execution_count": 27,
   "metadata": {},
   "outputs": [
    {
     "name": "stdout",
     "output_type": "stream",
     "text": [
      "a tensor([[[1., 2.],\n",
      "         [3., 4.]],\n",
      "\n",
      "        [[5., 6.],\n",
      "         [7., 8.]]])\n",
      "-1 tensor([[1.5000, 3.5000],\n",
      "        [5.5000, 7.5000]])\n",
      "-2 tensor([[2., 3.],\n",
      "        [6., 7.]])\n"
     ]
    }
   ],
   "source": [
    "a=torch.tensor([[[1,2],[3,4]],\n",
    "              [[5,6],[7,8]]], dtype=torch.float32)\n",
    "print('a', a)\n",
    "print('-1', a.mean(-1))\n",
    "print('-2', a.mean(-2))"
   ]
  },
  {
   "cell_type": "code",
   "execution_count": 26,
   "metadata": {},
   "outputs": [
    {
     "name": "stdout",
     "output_type": "stream",
     "text": [
      "tensor([[1., 2.],\n",
      "        [3., 4.]])\n",
      "tensor([2., 3.])\n"
     ]
    }
   ],
   "source": [
    "a=torch.tensor([[1,2],[3,4]], dtype=torch.float32)\n",
    "print(a)\n",
    "print(a.mean(-2))"
   ]
  },
  {
   "cell_type": "code",
   "execution_count": 31,
   "metadata": {},
   "outputs": [
    {
     "name": "stdout",
     "output_type": "stream",
     "text": [
      "tensor([[1., 1., 1.],\n",
      "        [1., 1., 1.],\n",
      "        [1., 1., 1.]])\n",
      "tensor([[[1.],\n",
      "         [1.],\n",
      "         [1.]],\n",
      "\n",
      "        [[1.],\n",
      "         [1.],\n",
      "         [1.]],\n",
      "\n",
      "        [[1.],\n",
      "         [1.],\n",
      "         [1.]]]) torch.Size([3, 3, 1])\n",
      "tensor([[[[1.]],\n",
      "\n",
      "         [[1.]],\n",
      "\n",
      "         [[1.]]],\n",
      "\n",
      "\n",
      "        [[[1.]],\n",
      "\n",
      "         [[1.]],\n",
      "\n",
      "         [[1.]]],\n",
      "\n",
      "\n",
      "        [[[1.]],\n",
      "\n",
      "         [[1.]],\n",
      "\n",
      "         [[1.]]]]) torch.Size([3, 3, 1, 1])\n"
     ]
    }
   ],
   "source": [
    "a=torch.ones(3,3)\n",
    "print(a)\n",
    "a=a.unsqueeze(-1)\n",
    "print(a, a.shape)\n",
    "a=a.unsqueeze(-1)\n",
    "print(a, a.shape)"
   ]
  },
  {
   "cell_type": "code",
   "execution_count": 35,
   "metadata": {},
   "outputs": [
    {
     "name": "stdout",
     "output_type": "stream",
     "text": [
      "tensor([[[1., 2.],\n",
      "         [3., 4.]],\n",
      "\n",
      "        [[5., 6.],\n",
      "         [7., 8.]]])\n",
      "tensor([[[ 2.,  4.],\n",
      "         [ 6.,  8.]],\n",
      "\n",
      "        [[10., 12.],\n",
      "         [14., 16.]]])\n"
     ]
    }
   ],
   "source": [
    "a=torch.tensor([[[1,2],[3,4]],\n",
    "              [[5,6],[7,8]]], dtype=torch.float32)\n",
    "print(a)\n",
    "a=a * (torch.ones(2,2,2) * 2)\n",
    "print(a)"
   ]
  },
  {
   "cell_type": "code",
   "execution_count": 36,
   "metadata": {},
   "outputs": [
    {
     "name": "stdout",
     "output_type": "stream",
     "text": [
      "Help on function einsum in module torch.functional:\n",
      "\n",
      "einsum(equation, *operands)\n",
      "    einsum(equation, *operands) -> Tensor\n",
      "    \n",
      "    This function provides a way of computing multilinear expressions (i.e. sums of products) using the\n",
      "    Einstein summation convention.\n",
      "    \n",
      "    Args:\n",
      "        equation (string): The equation is given in terms of lower case letters (indices) to be associated\n",
      "               with each dimension of the operands and result. The left hand side lists the operands\n",
      "               dimensions, separated by commas. There should be one index letter per tensor dimension.\n",
      "               The right hand side follows after `->` and gives the indices for the output.\n",
      "               If the `->` and right hand side are omitted, it implicitly defined as the alphabetically\n",
      "               sorted list of all indices appearing exactly once in the left hand side.\n",
      "               The indices not apprearing in the output are summed over after multiplying the operands\n",
      "               entries.\n",
      "               If an index appears several times for the same operand, a diagonal is taken.\n",
      "               Ellipses `...` represent a fixed number of dimensions. If the right hand side is inferred,\n",
      "               the ellipsis dimensions are at the beginning of the output.\n",
      "        operands (Tensor): The operands to compute the Einstein sum of.\n",
      "    \n",
      "    Examples::\n",
      "    \n",
      "        >>> x = torch.randn(5)\n",
      "        >>> y = torch.randn(4)\n",
      "        >>> torch.einsum('i,j->ij', x, y)  # outer product\n",
      "        tensor([[-0.0570, -0.0286, -0.0231,  0.0197],\n",
      "                [ 1.2616,  0.6335,  0.5113, -0.4351],\n",
      "                [ 1.4452,  0.7257,  0.5857, -0.4984],\n",
      "                [-0.4647, -0.2333, -0.1883,  0.1603],\n",
      "                [-1.1130, -0.5588, -0.4510,  0.3838]])\n",
      "    \n",
      "    \n",
      "        >>> A = torch.randn(3,5,4)\n",
      "        >>> l = torch.randn(2,5)\n",
      "        >>> r = torch.randn(2,4)\n",
      "        >>> torch.einsum('bn,anm,bm->ba', l, A, r) # compare torch.nn.functional.bilinear\n",
      "        tensor([[-0.3430, -5.2405,  0.4494],\n",
      "                [ 0.3311,  5.5201, -3.0356]])\n",
      "    \n",
      "    \n",
      "        >>> As = torch.randn(3,2,5)\n",
      "        >>> Bs = torch.randn(3,5,4)\n",
      "        >>> torch.einsum('bij,bjk->bik', As, Bs) # batch matrix multiplication\n",
      "        tensor([[[-1.0564, -1.5904,  3.2023,  3.1271],\n",
      "                 [-1.6706, -0.8097, -0.8025, -2.1183]],\n",
      "    \n",
      "                [[ 4.2239,  0.3107, -0.5756, -0.2354],\n",
      "                 [-1.4558, -0.3460,  1.5087, -0.8530]],\n",
      "    \n",
      "                [[ 2.8153,  1.8787, -4.3839, -1.2112],\n",
      "                 [ 0.3728, -2.1131,  0.0921,  0.8305]]])\n",
      "    \n",
      "        >>> A = torch.randn(3, 3)\n",
      "        >>> torch.einsum('ii->i', A) # diagonal\n",
      "        tensor([-0.7825,  0.8291, -0.1936])\n",
      "    \n",
      "        >>> A = torch.randn(4, 3, 3)\n",
      "        >>> torch.einsum('...ii->...i', A) # batch diagonal\n",
      "        tensor([[-1.0864,  0.7292,  0.0569],\n",
      "                [-0.9725, -1.0270,  0.6493],\n",
      "                [ 0.5832, -1.1716, -1.5084],\n",
      "                [ 0.4041, -1.1690,  0.8570]])\n",
      "    \n",
      "        >>> A = torch.randn(2, 3, 4, 5)\n",
      "        >>> torch.einsum('...ij->...ji', A).shape # batch permute\n",
      "        torch.Size([2, 3, 5, 4])\n",
      "\n"
     ]
    }
   ],
   "source": [
    "help(torch.einsum)"
   ]
  },
  {
   "cell_type": "code",
   "execution_count": 68,
   "metadata": {},
   "outputs": [
    {
     "name": "stdout",
     "output_type": "stream",
     "text": [
      "tensor([[[1., 2.],\n",
      "         [3., 4.]],\n",
      "\n",
      "        [[5., 6.],\n",
      "         [7., 8.]]]) torch.Size([2, 2, 2])\n",
      "torch.Size([2, 2, 2]) ('p', 'x', 'y')\n",
      "----------------------------------------\n",
      "tensor([[[1., 2.],\n",
      "         [3., 4.]],\n",
      "\n",
      "        [[5., 6.],\n",
      "         [7., 8.]]], names=('p', 'x', 'y'))\n",
      "sum(x): tensor([[ 4.,  6.],\n",
      "        [12., 14.]], names=('p', 'y'))\n",
      "sum(-2): tensor([[ 4.,  6.],\n",
      "        [12., 14.]], names=('p', 'y'))\n",
      "----------------------------------------\n"
     ]
    }
   ],
   "source": [
    "# 两幅画，每幅画有两个点，每个点由两个坐标值表示\n",
    "a=torch.tensor([[[1,2],[3,4]],\n",
    "              [[5,6],[7,8]]], dtype=torch.float32)\n",
    "print(a, a.shape)\n",
    "a_names=a.refine_names('p', 'x', 'y')\n",
    "print(a_names.shape, a_names.names)\n",
    "print('-' * 40)\n",
    "print(a_names)\n",
    "print('sum(x):', a_names.sum('x'))\n",
    "print('sum(-2):', a_names.sum(-2))\n",
    "print('-' * 40)"
   ]
  },
  {
   "cell_type": "code",
   "execution_count": 72,
   "metadata": {},
   "outputs": [
    {
     "name": "stdout",
     "output_type": "stream",
     "text": [
      "a tensor([[1., 1.],\n",
      "        [1., 1.],\n",
      "        [1., 1.]])\n",
      "a1 tensor([[0.8415, 0.8415],\n",
      "        [0.8415, 0.8415],\n",
      "        [0.8415, 0.8415]])\n",
      "140470871739840 140470871815344\n"
     ]
    }
   ],
   "source": [
    "a = torch.ones(3, 2)\n",
    "print('a', a)\n",
    "# 生成一个新的tensor\n",
    "a1=a.sin()\n",
    "print('a1', a1)\n",
    "print(id(a),id(a1))"
   ]
  },
  {
   "cell_type": "code",
   "execution_count": 73,
   "metadata": {},
   "outputs": [
    {
     "name": "stdout",
     "output_type": "stream",
     "text": [
      "a tensor([[1., 1.],\n",
      "        [1., 1.],\n",
      "        [1., 1.]])\n",
      "a1 tensor([[0.8415, 0.8415],\n",
      "        [0.8415, 0.8415],\n",
      "        [0.8415, 0.8415]])\n",
      "140470872264864 140470872264864\n"
     ]
    }
   ],
   "source": [
    "a = torch.ones(3, 2)\n",
    "print('a', a)\n",
    "# in place\n",
    "a1=a.sin_()\n",
    "print('a1', a1)\n",
    "print(id(a),id(a1))"
   ]
  },
  {
   "cell_type": "code",
   "execution_count": 76,
   "metadata": {},
   "outputs": [
    {
     "name": "stdout",
     "output_type": "stream",
     "text": [
      " 1.0\n",
      " 1.0\n",
      " 1.0\n",
      " 1.0\n",
      " 1.0\n",
      " 1.0\n",
      "[torch.FloatStorage of size 6]\n",
      " 1.0\n",
      " 1.0\n",
      " 1.0\n",
      " 1.0\n",
      " 1.0\n",
      " 100.0\n",
      "[torch.FloatStorage of size 6]\n"
     ]
    }
   ],
   "source": [
    "a = torch.ones(3, 2)\n",
    "a = a.storage()\n",
    "print(a)\n",
    "a[5] = 100\n",
    "print(a)"
   ]
  }
 ],
 "metadata": {
  "kernelspec": {
   "display_name": "Python 3 (ipykernel)",
   "language": "python",
   "name": "python3"
  },
  "language_info": {
   "codemirror_mode": {
    "name": "ipython",
    "version": 3
   },
   "file_extension": ".py",
   "mimetype": "text/x-python",
   "name": "python",
   "nbconvert_exporter": "python",
   "pygments_lexer": "ipython3",
   "version": "3.7.15"
  },
  "orig_nbformat": 4
 },
 "nbformat": 4,
 "nbformat_minor": 2
}
