{
 "cells": [
  {
   "cell_type": "code",
   "execution_count": 1,
   "metadata": {},
   "outputs": [],
   "source": [
    "import torch\n"
   ]
  },
  {
   "cell_type": "code",
   "execution_count": 4,
   "metadata": {},
   "outputs": [
    {
     "name": "stdout",
     "output_type": "stream",
     "text": [
      "tensor(2.)\n",
      "tensor(3.5000)\n",
      "tensor(2.)\n"
     ]
    }
   ],
   "source": [
    "a=torch.Tensor([1,2,3])\n",
    "print(a.mean())\n",
    "a=torch.Tensor([[1,2,3],[4,5,6]])\n",
    "print(a.mean())\n",
    "print(a[0].mean())"
   ]
  },
  {
   "cell_type": "code",
   "execution_count": 17,
   "metadata": {},
   "outputs": [
    {
     "name": "stdout",
     "output_type": "stream",
     "text": [
      "[[[ 0  1  2]\n",
      "  [ 3  4  5]\n",
      "  [ 6  7  8]]\n",
      "\n",
      " [[ 9 10 11]\n",
      "  [12 13 14]\n",
      "  [15 16 17]]\n",
      "\n",
      " [[18 19 20]\n",
      "  [21 22 23]\n",
      "  [24 25 26]]]\n",
      "----------------------------------------\n",
      "tensor([[[ 0,  3,  6],\n",
      "         [ 9, 12, 15],\n",
      "         [18, 21, 24]],\n",
      "\n",
      "        [[ 1,  4,  7],\n",
      "         [10, 13, 16],\n",
      "         [19, 22, 25]],\n",
      "\n",
      "        [[ 2,  5,  8],\n",
      "         [11, 14, 17],\n",
      "         [20, 23, 26]]])\n",
      "torch.Size([3, 3, 3])\n",
      "tensor([[ 1,  4,  7],\n",
      "        [10, 13, 16],\n",
      "        [19, 22, 25]])\n",
      "tensor([[ 9, 12, 15],\n",
      "        [10, 13, 16],\n",
      "        [11, 14, 17]])\n",
      "tensor([12, 13, 14])\n",
      "tensor(39)\n"
     ]
    }
   ],
   "source": [
    "import numpy as np\n",
    "np.reshape\n",
    "a=np.arange(27)\n",
    "a=a.reshape(3,3,3)\n",
    "print(a)\n",
    "print('-' * 40)\n",
    "a = torch.from_numpy(a)\n",
    "a = a.permute(2,0,1)\n",
    "print(a)\n",
    "print(a.shape)\n",
    "print(a[1])\n",
    "print(a[:,1])\n",
    "print(a[:,1,1])\n",
    "print(torch.sum(a[:,1,1]))"
   ]
  },
  {
   "cell_type": "code",
   "execution_count": 19,
   "metadata": {},
   "outputs": [
    {
     "name": "stdout",
     "output_type": "stream",
     "text": [
      "Help on built-in function var:\n",
      "\n",
      "var(...)\n",
      "    .. function:: var(input, unbiased=True) -> Tensor\n",
      "    \n",
      "    Returns the variance of all elements in the :attr:`input` tensor.\n",
      "    \n",
      "    If :attr:`unbiased` is ``False``, then the variance will be calculated via the\n",
      "    biased estimator. Otherwise, Bessel's correction will be used.\n",
      "    \n",
      "    Args:\n",
      "        input (Tensor): the input tensor.\n",
      "        unbiased (bool): whether to use the unbiased estimation or not\n",
      "    \n",
      "    Example::\n",
      "    \n",
      "        >>> a = torch.randn(1, 3)\n",
      "        >>> a\n",
      "        tensor([[-0.3425, -1.2636, -0.4864]])\n",
      "        >>> torch.var(a)\n",
      "        tensor(0.2455)\n",
      "    \n",
      "    \n",
      "    .. function:: var(input, dim, keepdim=False, unbiased=True, out=None) -> Tensor\n",
      "    \n",
      "    Returns the variance of each row of the :attr:`input` tensor in the given\n",
      "    dimension :attr:`dim`.\n",
      "    \n",
      "    \n",
      "    If :attr:`keepdim` is ``True``, the output tensor is of the same size\n",
      "    as :attr:`input` except in the dimension(s) :attr:`dim` where it is of size 1.\n",
      "    Otherwise, :attr:`dim` is squeezed (see :func:`torch.squeeze`), resulting in the\n",
      "    output tensor having 1 (or ``len(dim)``) fewer dimension(s).\n",
      "    \n",
      "    \n",
      "    If :attr:`unbiased` is ``False``, then the variance will be calculated via the\n",
      "    biased estimator. Otherwise, Bessel's correction will be used.\n",
      "    \n",
      "    Args:\n",
      "        input (Tensor): the input tensor.\n",
      "        dim (int or tuple of ints): the dimension or dimensions to reduce.\n",
      "        keepdim (bool): whether the output tensor has :attr:`dim` retained or not.\n",
      "        unbiased (bool): whether to use the unbiased estimation or not\n",
      "        out (Tensor, optional): the output tensor.\n",
      "    \n",
      "    Example::\n",
      "    \n",
      "        >>> a = torch.randn(4, 4)\n",
      "        >>> a\n",
      "        tensor([[-0.3567,  1.7385, -1.3042,  0.7423],\n",
      "                [ 1.3436, -0.1015, -0.9834, -0.8438],\n",
      "                [ 0.6056,  0.1089, -0.3112, -1.4085],\n",
      "                [-0.7700,  0.6074, -0.1469,  0.7777]])\n",
      "        >>> torch.var(a, 1)\n",
      "        tensor([ 1.7444,  1.1363,  0.7356,  0.5112])\n",
      "\n"
     ]
    }
   ],
   "source": [
    "import torch\n",
    "help(torch.var)"
   ]
  }
 ],
 "metadata": {
  "kernelspec": {
   "display_name": "Python 3 (ipykernel)",
   "language": "python",
   "name": "python3"
  },
  "orig_nbformat": 4
 },
 "nbformat": 4,
 "nbformat_minor": 2
}
